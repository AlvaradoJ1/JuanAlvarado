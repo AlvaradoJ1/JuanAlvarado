{
 "cells": [
  {
   "cell_type": "raw",
   "id": "525a2137-329c-489e-ad76-7ece0f29d0ca",
   "metadata": {},
   "source": [
    "1. Realizar un análisis exploratorio de los datos para identificar relaciones entre variables, valores atípicos, tendencias, etc."
   ]
  },
  {
   "cell_type": "code",
   "execution_count": 62,
   "id": "5068efe2-5e5f-46dc-b17b-94759d0a428f",
   "metadata": {},
   "outputs": [],
   "source": [
    "# Cargar Las Librerias necesrias\n",
    "import pandas as pd \n",
    "import numpy as np \n",
    "import seaborn as sns \n",
    "import matplotlib.pyplot as plt \n",
    "\n",
    "# Librerías de para implementar modelos de ciencia de datos\n",
    "from sklearn import metrics\n",
    "from sklearn.model_selection import train_test_split\n",
    "from sklearn.tree import DecisionTreeClassifier, plot_tree\n",
    "from sklearn.metrics import confusion_matrix, accuracy_score"
   ]
  },
  {
   "cell_type": "code",
   "execution_count": 5,
   "id": "346c9eff-bfff-4959-a1ff-79a158e9a80f",
   "metadata": {},
   "outputs": [],
   "source": [
    "#cargar archivo\n",
    "Datos = pd.read_csv('./Vino.csv')"
   ]
  },
  {
   "cell_type": "code",
   "execution_count": 6,
   "id": "2e4eef83-f61a-4f27-a868-c0c4dd24d5d1",
   "metadata": {},
   "outputs": [
    {
     "data": {
      "text/html": [
       "<div>\n",
       "<style scoped>\n",
       "    .dataframe tbody tr th:only-of-type {\n",
       "        vertical-align: middle;\n",
       "    }\n",
       "\n",
       "    .dataframe tbody tr th {\n",
       "        vertical-align: top;\n",
       "    }\n",
       "\n",
       "    .dataframe thead th {\n",
       "        text-align: right;\n",
       "    }\n",
       "</style>\n",
       "<table border=\"1\" class=\"dataframe\">\n",
       "  <thead>\n",
       "    <tr style=\"text-align: right;\">\n",
       "      <th></th>\n",
       "      <th>fixed acidity</th>\n",
       "      <th>volatile acidity</th>\n",
       "      <th>citric acid</th>\n",
       "      <th>residual sugar</th>\n",
       "      <th>chlorides</th>\n",
       "      <th>free sulfur dioxide</th>\n",
       "      <th>total sulfur dioxide</th>\n",
       "      <th>density</th>\n",
       "      <th>pH</th>\n",
       "      <th>sulphates</th>\n",
       "      <th>alcohol</th>\n",
       "      <th>quality</th>\n",
       "    </tr>\n",
       "  </thead>\n",
       "  <tbody>\n",
       "    <tr>\n",
       "      <th>0</th>\n",
       "      <td>7.4</td>\n",
       "      <td>0.70</td>\n",
       "      <td>0.00</td>\n",
       "      <td>1.9</td>\n",
       "      <td>0.076</td>\n",
       "      <td>11.0</td>\n",
       "      <td>34.0</td>\n",
       "      <td>0.9978</td>\n",
       "      <td>3.51</td>\n",
       "      <td>0.56</td>\n",
       "      <td>9.4</td>\n",
       "      <td>5</td>\n",
       "    </tr>\n",
       "    <tr>\n",
       "      <th>1</th>\n",
       "      <td>7.8</td>\n",
       "      <td>0.88</td>\n",
       "      <td>0.00</td>\n",
       "      <td>2.6</td>\n",
       "      <td>0.098</td>\n",
       "      <td>25.0</td>\n",
       "      <td>67.0</td>\n",
       "      <td>0.9968</td>\n",
       "      <td>3.20</td>\n",
       "      <td>0.68</td>\n",
       "      <td>9.8</td>\n",
       "      <td>5</td>\n",
       "    </tr>\n",
       "    <tr>\n",
       "      <th>2</th>\n",
       "      <td>7.8</td>\n",
       "      <td>0.76</td>\n",
       "      <td>0.04</td>\n",
       "      <td>2.3</td>\n",
       "      <td>0.092</td>\n",
       "      <td>15.0</td>\n",
       "      <td>54.0</td>\n",
       "      <td>0.9970</td>\n",
       "      <td>3.26</td>\n",
       "      <td>0.65</td>\n",
       "      <td>9.8</td>\n",
       "      <td>5</td>\n",
       "    </tr>\n",
       "    <tr>\n",
       "      <th>3</th>\n",
       "      <td>11.2</td>\n",
       "      <td>0.28</td>\n",
       "      <td>0.56</td>\n",
       "      <td>1.9</td>\n",
       "      <td>0.075</td>\n",
       "      <td>17.0</td>\n",
       "      <td>60.0</td>\n",
       "      <td>0.9980</td>\n",
       "      <td>3.16</td>\n",
       "      <td>0.58</td>\n",
       "      <td>9.8</td>\n",
       "      <td>6</td>\n",
       "    </tr>\n",
       "    <tr>\n",
       "      <th>4</th>\n",
       "      <td>7.4</td>\n",
       "      <td>0.70</td>\n",
       "      <td>0.00</td>\n",
       "      <td>1.9</td>\n",
       "      <td>0.076</td>\n",
       "      <td>11.0</td>\n",
       "      <td>34.0</td>\n",
       "      <td>0.9978</td>\n",
       "      <td>3.51</td>\n",
       "      <td>0.56</td>\n",
       "      <td>9.4</td>\n",
       "      <td>5</td>\n",
       "    </tr>\n",
       "    <tr>\n",
       "      <th>5</th>\n",
       "      <td>7.4</td>\n",
       "      <td>0.66</td>\n",
       "      <td>0.00</td>\n",
       "      <td>1.8</td>\n",
       "      <td>0.075</td>\n",
       "      <td>13.0</td>\n",
       "      <td>40.0</td>\n",
       "      <td>0.9978</td>\n",
       "      <td>3.51</td>\n",
       "      <td>0.56</td>\n",
       "      <td>9.4</td>\n",
       "      <td>5</td>\n",
       "    </tr>\n",
       "    <tr>\n",
       "      <th>6</th>\n",
       "      <td>7.9</td>\n",
       "      <td>0.60</td>\n",
       "      <td>0.06</td>\n",
       "      <td>1.6</td>\n",
       "      <td>0.069</td>\n",
       "      <td>15.0</td>\n",
       "      <td>59.0</td>\n",
       "      <td>0.9964</td>\n",
       "      <td>3.30</td>\n",
       "      <td>0.46</td>\n",
       "      <td>9.4</td>\n",
       "      <td>5</td>\n",
       "    </tr>\n",
       "    <tr>\n",
       "      <th>7</th>\n",
       "      <td>7.3</td>\n",
       "      <td>0.65</td>\n",
       "      <td>0.00</td>\n",
       "      <td>1.2</td>\n",
       "      <td>0.065</td>\n",
       "      <td>15.0</td>\n",
       "      <td>21.0</td>\n",
       "      <td>0.9946</td>\n",
       "      <td>3.39</td>\n",
       "      <td>0.47</td>\n",
       "      <td>10.0</td>\n",
       "      <td>7</td>\n",
       "    </tr>\n",
       "    <tr>\n",
       "      <th>8</th>\n",
       "      <td>7.8</td>\n",
       "      <td>0.58</td>\n",
       "      <td>0.02</td>\n",
       "      <td>2.0</td>\n",
       "      <td>0.073</td>\n",
       "      <td>9.0</td>\n",
       "      <td>18.0</td>\n",
       "      <td>0.9968</td>\n",
       "      <td>3.36</td>\n",
       "      <td>0.57</td>\n",
       "      <td>9.5</td>\n",
       "      <td>7</td>\n",
       "    </tr>\n",
       "    <tr>\n",
       "      <th>9</th>\n",
       "      <td>7.5</td>\n",
       "      <td>0.50</td>\n",
       "      <td>0.36</td>\n",
       "      <td>6.1</td>\n",
       "      <td>0.071</td>\n",
       "      <td>17.0</td>\n",
       "      <td>102.0</td>\n",
       "      <td>0.9978</td>\n",
       "      <td>3.35</td>\n",
       "      <td>0.80</td>\n",
       "      <td>10.5</td>\n",
       "      <td>5</td>\n",
       "    </tr>\n",
       "  </tbody>\n",
       "</table>\n",
       "</div>"
      ],
      "text/plain": [
       "   fixed acidity  volatile acidity  citric acid  residual sugar  chlorides  \\\n",
       "0            7.4              0.70         0.00             1.9      0.076   \n",
       "1            7.8              0.88         0.00             2.6      0.098   \n",
       "2            7.8              0.76         0.04             2.3      0.092   \n",
       "3           11.2              0.28         0.56             1.9      0.075   \n",
       "4            7.4              0.70         0.00             1.9      0.076   \n",
       "5            7.4              0.66         0.00             1.8      0.075   \n",
       "6            7.9              0.60         0.06             1.6      0.069   \n",
       "7            7.3              0.65         0.00             1.2      0.065   \n",
       "8            7.8              0.58         0.02             2.0      0.073   \n",
       "9            7.5              0.50         0.36             6.1      0.071   \n",
       "\n",
       "   free sulfur dioxide  total sulfur dioxide  density    pH  sulphates  \\\n",
       "0                 11.0                  34.0   0.9978  3.51       0.56   \n",
       "1                 25.0                  67.0   0.9968  3.20       0.68   \n",
       "2                 15.0                  54.0   0.9970  3.26       0.65   \n",
       "3                 17.0                  60.0   0.9980  3.16       0.58   \n",
       "4                 11.0                  34.0   0.9978  3.51       0.56   \n",
       "5                 13.0                  40.0   0.9978  3.51       0.56   \n",
       "6                 15.0                  59.0   0.9964  3.30       0.46   \n",
       "7                 15.0                  21.0   0.9946  3.39       0.47   \n",
       "8                  9.0                  18.0   0.9968  3.36       0.57   \n",
       "9                 17.0                 102.0   0.9978  3.35       0.80   \n",
       "\n",
       "   alcohol  quality  \n",
       "0      9.4        5  \n",
       "1      9.8        5  \n",
       "2      9.8        5  \n",
       "3      9.8        6  \n",
       "4      9.4        5  \n",
       "5      9.4        5  \n",
       "6      9.4        5  \n",
       "7     10.0        7  \n",
       "8      9.5        7  \n",
       "9     10.5        5  "
      ]
     },
     "execution_count": 6,
     "metadata": {},
     "output_type": "execute_result"
    }
   ],
   "source": [
    "#lectura de datos para realizar el \n",
    "Datos.head(10)"
   ]
  },
  {
   "cell_type": "code",
   "execution_count": 6,
   "id": "45c2f88c-a82a-4f7e-8111-805287dc8cca",
   "metadata": {},
   "outputs": [
    {
     "data": {
      "text/html": [
       "<div>\n",
       "<style scoped>\n",
       "    .dataframe tbody tr th:only-of-type {\n",
       "        vertical-align: middle;\n",
       "    }\n",
       "\n",
       "    .dataframe tbody tr th {\n",
       "        vertical-align: top;\n",
       "    }\n",
       "\n",
       "    .dataframe thead th {\n",
       "        text-align: right;\n",
       "    }\n",
       "</style>\n",
       "<table border=\"1\" class=\"dataframe\">\n",
       "  <thead>\n",
       "    <tr style=\"text-align: right;\">\n",
       "      <th></th>\n",
       "      <th>fixed acidity</th>\n",
       "      <th>volatile acidity</th>\n",
       "      <th>citric acid</th>\n",
       "      <th>residual sugar</th>\n",
       "      <th>chlorides</th>\n",
       "      <th>free sulfur dioxide</th>\n",
       "      <th>total sulfur dioxide</th>\n",
       "      <th>density</th>\n",
       "      <th>pH</th>\n",
       "      <th>sulphates</th>\n",
       "      <th>alcohol</th>\n",
       "      <th>quality</th>\n",
       "    </tr>\n",
       "  </thead>\n",
       "  <tbody>\n",
       "    <tr>\n",
       "      <th>count</th>\n",
       "      <td>1599.000000</td>\n",
       "      <td>1599.000000</td>\n",
       "      <td>1599.000000</td>\n",
       "      <td>1599.000000</td>\n",
       "      <td>1599.000000</td>\n",
       "      <td>1599.000000</td>\n",
       "      <td>1599.000000</td>\n",
       "      <td>1599.000000</td>\n",
       "      <td>1599.000000</td>\n",
       "      <td>1599.000000</td>\n",
       "      <td>1599.000000</td>\n",
       "      <td>1599.000000</td>\n",
       "    </tr>\n",
       "    <tr>\n",
       "      <th>mean</th>\n",
       "      <td>8.319637</td>\n",
       "      <td>0.527821</td>\n",
       "      <td>0.270976</td>\n",
       "      <td>2.538806</td>\n",
       "      <td>0.087467</td>\n",
       "      <td>15.874922</td>\n",
       "      <td>46.467792</td>\n",
       "      <td>0.996747</td>\n",
       "      <td>3.311113</td>\n",
       "      <td>0.658149</td>\n",
       "      <td>10.422983</td>\n",
       "      <td>5.636023</td>\n",
       "    </tr>\n",
       "    <tr>\n",
       "      <th>std</th>\n",
       "      <td>1.741096</td>\n",
       "      <td>0.179060</td>\n",
       "      <td>0.194801</td>\n",
       "      <td>1.409928</td>\n",
       "      <td>0.047065</td>\n",
       "      <td>10.460157</td>\n",
       "      <td>32.895324</td>\n",
       "      <td>0.001887</td>\n",
       "      <td>0.154386</td>\n",
       "      <td>0.169507</td>\n",
       "      <td>1.065668</td>\n",
       "      <td>0.807569</td>\n",
       "    </tr>\n",
       "    <tr>\n",
       "      <th>min</th>\n",
       "      <td>4.600000</td>\n",
       "      <td>0.120000</td>\n",
       "      <td>0.000000</td>\n",
       "      <td>0.900000</td>\n",
       "      <td>0.012000</td>\n",
       "      <td>1.000000</td>\n",
       "      <td>6.000000</td>\n",
       "      <td>0.990070</td>\n",
       "      <td>2.740000</td>\n",
       "      <td>0.330000</td>\n",
       "      <td>8.400000</td>\n",
       "      <td>3.000000</td>\n",
       "    </tr>\n",
       "    <tr>\n",
       "      <th>25%</th>\n",
       "      <td>7.100000</td>\n",
       "      <td>0.390000</td>\n",
       "      <td>0.090000</td>\n",
       "      <td>1.900000</td>\n",
       "      <td>0.070000</td>\n",
       "      <td>7.000000</td>\n",
       "      <td>22.000000</td>\n",
       "      <td>0.995600</td>\n",
       "      <td>3.210000</td>\n",
       "      <td>0.550000</td>\n",
       "      <td>9.500000</td>\n",
       "      <td>5.000000</td>\n",
       "    </tr>\n",
       "    <tr>\n",
       "      <th>50%</th>\n",
       "      <td>7.900000</td>\n",
       "      <td>0.520000</td>\n",
       "      <td>0.260000</td>\n",
       "      <td>2.200000</td>\n",
       "      <td>0.079000</td>\n",
       "      <td>14.000000</td>\n",
       "      <td>38.000000</td>\n",
       "      <td>0.996750</td>\n",
       "      <td>3.310000</td>\n",
       "      <td>0.620000</td>\n",
       "      <td>10.200000</td>\n",
       "      <td>6.000000</td>\n",
       "    </tr>\n",
       "    <tr>\n",
       "      <th>75%</th>\n",
       "      <td>9.200000</td>\n",
       "      <td>0.640000</td>\n",
       "      <td>0.420000</td>\n",
       "      <td>2.600000</td>\n",
       "      <td>0.090000</td>\n",
       "      <td>21.000000</td>\n",
       "      <td>62.000000</td>\n",
       "      <td>0.997835</td>\n",
       "      <td>3.400000</td>\n",
       "      <td>0.730000</td>\n",
       "      <td>11.100000</td>\n",
       "      <td>6.000000</td>\n",
       "    </tr>\n",
       "    <tr>\n",
       "      <th>max</th>\n",
       "      <td>15.900000</td>\n",
       "      <td>1.580000</td>\n",
       "      <td>1.000000</td>\n",
       "      <td>15.500000</td>\n",
       "      <td>0.611000</td>\n",
       "      <td>72.000000</td>\n",
       "      <td>289.000000</td>\n",
       "      <td>1.003690</td>\n",
       "      <td>4.010000</td>\n",
       "      <td>2.000000</td>\n",
       "      <td>14.900000</td>\n",
       "      <td>8.000000</td>\n",
       "    </tr>\n",
       "  </tbody>\n",
       "</table>\n",
       "</div>"
      ],
      "text/plain": [
       "       fixed acidity  volatile acidity  citric acid  residual sugar  \\\n",
       "count    1599.000000       1599.000000  1599.000000     1599.000000   \n",
       "mean        8.319637          0.527821     0.270976        2.538806   \n",
       "std         1.741096          0.179060     0.194801        1.409928   \n",
       "min         4.600000          0.120000     0.000000        0.900000   \n",
       "25%         7.100000          0.390000     0.090000        1.900000   \n",
       "50%         7.900000          0.520000     0.260000        2.200000   \n",
       "75%         9.200000          0.640000     0.420000        2.600000   \n",
       "max        15.900000          1.580000     1.000000       15.500000   \n",
       "\n",
       "         chlorides  free sulfur dioxide  total sulfur dioxide      density  \\\n",
       "count  1599.000000          1599.000000           1599.000000  1599.000000   \n",
       "mean      0.087467            15.874922             46.467792     0.996747   \n",
       "std       0.047065            10.460157             32.895324     0.001887   \n",
       "min       0.012000             1.000000              6.000000     0.990070   \n",
       "25%       0.070000             7.000000             22.000000     0.995600   \n",
       "50%       0.079000            14.000000             38.000000     0.996750   \n",
       "75%       0.090000            21.000000             62.000000     0.997835   \n",
       "max       0.611000            72.000000            289.000000     1.003690   \n",
       "\n",
       "                pH    sulphates      alcohol      quality  \n",
       "count  1599.000000  1599.000000  1599.000000  1599.000000  \n",
       "mean      3.311113     0.658149    10.422983     5.636023  \n",
       "std       0.154386     0.169507     1.065668     0.807569  \n",
       "min       2.740000     0.330000     8.400000     3.000000  \n",
       "25%       3.210000     0.550000     9.500000     5.000000  \n",
       "50%       3.310000     0.620000    10.200000     6.000000  \n",
       "75%       3.400000     0.730000    11.100000     6.000000  \n",
       "max       4.010000     2.000000    14.900000     8.000000  "
      ]
     },
     "execution_count": 6,
     "metadata": {},
     "output_type": "execute_result"
    }
   ],
   "source": [
    "Datos.describe()"
   ]
  },
  {
   "cell_type": "code",
   "execution_count": 10,
   "id": "c1558fc1-e18b-47a1-90e5-d0ab34ee0986",
   "metadata": {},
   "outputs": [
    {
     "data": {
      "text/plain": [
       "Text(0.5, 1.0, 'Identificación de Datos Faltantes y Atípicos de fixed acidity')"
      ]
     },
     "execution_count": 10,
     "metadata": {},
     "output_type": "execute_result"
    },
    {
     "data": {
      "image/png": "[encoded data removed]",
      "text/plain": [
       "<Figure size 600x300 with 1 Axes>"
      ]
     },
     "metadata": {},
     "output_type": "display_data"
    }
   ],
   "source": [
    "#Identificación de Datos Faltantes y Atípicos de fixed acidity\n",
    "plt.figure(figsize=(6, 3))\n",
    "sns.boxplot (x=Datos ['fixed acidity'])\n",
    "plt.title('Identificación de Datos Faltantes y Atípicos de fixed acidity', fontsize=10)"
   ]
  },
  {
   "cell_type": "code",
   "execution_count": 11,
   "id": "3b8e6cb5-5239-4e7d-beea-a7bc15771028",
   "metadata": {},
   "outputs": [
    {
     "data": {
      "text/plain": [
       "Text(0.5, 1.0, 'Identificación de Datos Faltantes y Atípicos de volatile acidity')"
      ]
     },
     "execution_count": 11,
     "metadata": {},
     "output_type": "execute_result"
    },
    {
     "data": {
      "image/png": "[encoded data removed]",
      "text/plain": [
       "<Figure size 600x300 with 1 Axes>"
      ]
     },
     "metadata": {},
     "output_type": "display_data"
    }
   ],
   "source": [
    "#Identificación de Datos Faltantes y Atípicos de volatile acidity\n",
    "plt.figure(figsize=(6, 3))\n",
    "sns.boxplot (x=Datos ['volatile acidity'])\n",
    "plt.title('Identificación de Datos Faltantes y Atípicos de volatile acidity', fontsize=10)"
   ]
  },
  {
   "cell_type": "code",
   "execution_count": 12,
   "id": "5326ec0f-7187-4afc-b98b-7d12a0125ec6",
   "metadata": {},
   "outputs": [
    {
     "data": {
      "text/plain": [
       "Text(0.5, 1.0, 'Identificación de Datos Faltantes y Atípicos de citric acid')"
      ]
     },
     "execution_count": 12,
     "metadata": {},
     "output_type": "execute_result"
    },
    {
     "data": {
      "image/png": "[encoded data removed]",
      "text/plain": [
       "<Figure size 600x300 with 1 Axes>"
      ]
     },
     "metadata": {},
     "output_type": "display_data"
    }
   ],
   "source": [
    "#Identificación de Datos Faltantes y Atípicos de citric acid\n",
    "plt.figure(figsize=(6, 3))\n",
    "sns.boxplot (x=Datos ['citric acid'])\n",
    "plt.title('Identificación de Datos Faltantes y Atípicos de citric acid', fontsize=10)"
   ]
  },
  {
   "cell_type": "code",
   "execution_count": 13,
   "id": "9d3787c1-1fdd-43c7-ab6d-2abcf5ddf8a2",
   "metadata": {},
   "outputs": [
    {
     "data": {
      "text/plain": [
       "Text(0.5, 1.0, 'Identificación de Datos Faltantes y Atípicos de residual sugar')"
      ]
     },
     "execution_count": 13,
     "metadata": {},
     "output_type": "execute_result"
    },
    {
     "data": {
      "image/png": "[encoded data removed]",
      "text/plain": [
       "<Figure size 600x300 with 1 Axes>"
      ]
     },
     "metadata": {},
     "output_type": "display_data"
    }
   ],
   "source": [
    "#Identificación de Datos Faltantes y Atípicos de residual sugar\n",
    "plt.figure(figsize=(6, 3))\n",
    "sns.boxplot (x=Datos ['residual sugar'])\n",
    "plt.title('Identificación de Datos Faltantes y Atípicos de residual sugar', fontsize=10)"
   ]
  },
  {
   "cell_type": "code",
   "execution_count": 14,
   "id": "b9710878-fa7e-4846-97eb-9d5b5a4c3abf",
   "metadata": {},
   "outputs": [
    {
     "data": {
      "text/plain": [
       "Text(0.5, 1.0, 'Identificación de Datos Faltantes y Atípicos de chlorides')"
      ]
     },
     "execution_count": 14,
     "metadata": {},
     "output_type": "execute_result"
    },
    {
     "data": {
      "image/png": "[encoded data removed]",
      "text/plain": [
       "<Figure size 600x300 with 1 Axes>"
      ]
     },
     "metadata": {},
     "output_type": "display_data"
    }
   ],
   "source": [
    "#Identificación de Datos Faltantes y Atípicos de chlorides\n",
    "plt.figure(figsize=(6, 3))\n",
    "sns.boxplot (x=Datos ['chlorides'])\n",
    "plt.title('Identificación de Datos Faltantes y Atípicos de chlorides', fontsize=10)"
   ]
  },
  {
   "cell_type": "code",
   "execution_count": 15,
   "id": "e7a719ab-fd6b-496d-8e26-b0c3e9c96f39",
   "metadata": {},
   "outputs": [
    {
     "data": {
      "text/plain": [
       "Text(0.5, 1.0, 'Identificación de Datos Faltantes y Atípicos de free sulfur dioxide')"
      ]
     },
     "execution_count": 15,
     "metadata": {},
     "output_type": "execute_result"
    },
    {
     "data": {
      "image/png": "[encoded data removed]",
      "text/plain": [
       "<Figure size 600x300 with 1 Axes>"
      ]
     },
     "metadata": {},
     "output_type": "display_data"
    }
   ],
   "source": [
    "#Identificación de Datos Faltantes y Atípicos de free sulfur dioxide\n",
    "plt.figure(figsize=(6, 3))\n",
    "sns.boxplot (x=Datos ['free sulfur dioxide'])\n",
    "plt.title('Identificación de Datos Faltantes y Atípicos de free sulfur dioxide', fontsize=10)"
   ]
  },
  {
   "cell_type": "code",
   "execution_count": 45,
   "id": "f80ecd37-671a-434f-9d81-08c32c34d75e",
   "metadata": {},
   "outputs": [
    {
     "data": {
      "text/plain": [
       "Text(0.5, 1.0, 'Identificación de Datos Faltantes y Atípicos de total sulfur dioxide')"
      ]
     },
     "execution_count": 45,
     "metadata": {},
     "output_type": "execute_result"
    },
    {
     "data": {
      "image/png": "[encoded data removed]",
      "text/plain": [
       "<Figure size 600x300 with 1 Axes>"
      ]
     },
     "metadata": {},
     "output_type": "display_data"
    }
   ],
   "source": [
    "#Identificación de Datos Faltantes y Atípicos de total sulfur dioxide\n",
    "plt.figure(figsize=(6, 3))\n",
    "sns.boxplot (x=Datos ['total sulfur dioxide'])\n",
    "plt.title('Identificación de Datos Faltantes y Atípicos de total sulfur dioxide', fontsize=10)"
   ]
  },
  {
   "cell_type": "code",
   "execution_count": 17,
   "id": "a294a8e7-69e0-42c0-ad69-0a6bc8ebe253",
   "metadata": {},
   "outputs": [
    {
     "data": {
      "text/plain": [
       "Text(0.5, 1.0, 'Identificación de Datos Faltantes y Atípicos de density')"
      ]
     },
     "execution_count": 17,
     "metadata": {},
     "output_type": "execute_result"
    },
    {
     "data": {
      "image/png": "[encoded data removed]",
      "text/plain": [
       "<Figure size 600x300 with 1 Axes>"
      ]
     },
     "metadata": {},
     "output_type": "display_data"
    }
   ],
   "source": [
    "#Identificación de Datos Faltantes y Atípicos de density\n",
    "plt.figure(figsize=(6, 3))\n",
    "sns.boxplot (x=Datos ['density'])\n",
    "plt.title('Identificación de Datos Faltantes y Atípicos ', fontsize=10)"
   ]
  },
  {
   "cell_type": "code",
   "execution_count": 18,
   "id": "d6cfae54-07ba-4aec-9d00-8ecba32dd2e6",
   "metadata": {},
   "outputs": [
    {
     "data": {
      "text/plain": [
       "Text(0.5, 1.0, 'Identificación de Datos Faltantes y Atípicos de pH')"
      ]
     },
     "execution_count": 18,
     "metadata": {},
     "output_type": "execute_result"
    },
    {
     "data": {
      "image/png": "[encoded data removed]",
      "text/plain": [
       "<Figure size 600x300 with 1 Axes>"
      ]
     },
     "metadata": {},
     "output_type": "display_data"
    }
   ],
   "source": [
    "#Identificación de Datos Faltantes y Atípicos de pH\n",
    "plt.figure(figsize=(6, 3))\n",
    "sns.boxplot (x=Datos ['pH'])\n",
    "plt.title('Identificación de Datos Faltantes y Atípicos de pH', fontsize=10)"
   ]
  },
  {
   "cell_type": "code",
   "execution_count": 19,
   "id": "1c8a2dd3-2312-48aa-8ba2-a7c9f6789dd3",
   "metadata": {},
   "outputs": [
    {
     "data": {
      "text/plain": [
       "Text(0.5, 1.0, 'Identificación de Datos Faltantes y Atípicos de sulphates')"
      ]
     },
     "execution_count": 19,
     "metadata": {},
     "output_type": "execute_result"
    },
    {
     "data": {
      "image/png": "[encoded data removed]",
      "text/plain": [
       "<Figure size 600x300 with 1 Axes>"
      ]
     },
     "metadata": {},
     "output_type": "display_data"
    }
   ],
   "source": [
    "#Identificación de Datos Faltantes y Atípicos de sulphates\n",
    "plt.figure(figsize=(6, 3))\n",
    "sns.boxplot (x=Datos ['sulphates'])\n",
    "plt.title('Identificación de Datos Faltantes y Atípicos de sulphates', fontsize=10)"
   ]
  },
  {
   "cell_type": "code",
   "execution_count": 20,
   "id": "8a23fa56-e799-4243-921b-bc3682859d8c",
   "metadata": {},
   "outputs": [
    {
     "data": {
      "text/plain": [
       "Text(0.5, 1.0, 'Identificación de Datos Faltantes y Atípicos de alcohol')"
      ]
     },
     "execution_count": 20,
     "metadata": {},
     "output_type": "execute_result"
    },
    {
     "data": {
      "image/png": "[encoded data removed]",
      "text/plain": [
       "<Figure size 600x300 with 1 Axes>"
      ]
     },
     "metadata": {},
     "output_type": "display_data"
    }
   ],
   "source": [
    "#Identificación de Datos Faltantes y Atípicos de alcohol\n",
    "plt.figure(figsize=(6, 3))\n",
    "sns.boxplot (x=Datos ['alcohol'])\n",
    "plt.title('Identificación de Datos Faltantes y Atípicos de alcohol', fontsize=10)"
   ]
  },
  {
   "cell_type": "code",
   "execution_count": 21,
   "id": "8bb922b7-ad97-41f4-8545-6b02408777a2",
   "metadata": {},
   "outputs": [
    {
     "data": {
      "text/plain": [
       "Text(0.5, 1.0, 'Identificación de Datos Faltantes y Atípicos de quality')"
      ]
     },
     "execution_count": 21,
     "metadata": {},
     "output_type": "execute_result"
    },
    {
     "data": {
      "image/png": "[encoded data removed]",
      "text/plain": [
       "<Figure size 600x300 with 1 Axes>"
      ]
     },
     "metadata": {},
     "output_type": "display_data"
    }
   ],
   "source": [
    "#Identificación de Datos Faltantes y Atípicos de quality\n",
    "plt.figure(figsize=(6, 3))\n",
    "sns.boxplot (x=Datos ['quality'])\n",
    "plt.title('Identificación de Datos Faltantes y Atípicos de quality', fontsize=10)"
   ]
  },
  {
   "cell_type": "code",
   "execution_count": 26,
   "id": "9b9bf9af-af35-4044-a13b-b9ca69263b0c",
   "metadata": {},
   "outputs": [
    {
     "name": "stdout",
     "output_type": "stream",
     "text": [
      "El total de datos atípicos es 5\n"
     ]
    }
   ],
   "source": [
    "#Conteo de Datos Atípicos\n",
    "nivel_minimo=4\n",
    "nivel_maximo=15\n",
    "Total_Atipicos=((Datos['fixed acidity']<nivel_minimo)|(Datos['fixed acidity']>nivel_maximo)).sum()\n",
    "print(\"El total de datos atípicos es {}\".format(Total_Atipicos))"
   ]
  },
  {
   "cell_type": "code",
   "execution_count": 31,
   "id": "b900ddd6-53fe-4c87-9d5a-729d6db1f22d",
   "metadata": {},
   "outputs": [],
   "source": [
    "# Filtra Datos Atípicos\n",
    "\n",
    "Datos=Datos[(Datos['fixed acidity']<nivel_maximo)&(Datos['fixed acidity']>nivel_minimo)]"
   ]
  },
  {
   "cell_type": "code",
   "execution_count": 32,
   "id": "d0c583f6-04bf-4b3a-ba6f-33fcca8300ca",
   "metadata": {},
   "outputs": [
    {
     "name": "stdout",
     "output_type": "stream",
     "text": [
      "El total de datos atípicos es 0\n"
     ]
    }
   ],
   "source": [
    "# Validar si se removieron los datos atípicos\n",
    "\n",
    "Total_Atipicos=((Datos['fixed acidity']<nivel_minimo)|(Datos['fixed acidity']>nivel_maximo)).sum()\n",
    "print(\"El total de datos atípicos es {}\".format(Total_Atipicos))"
   ]
  },
  {
   "cell_type": "code",
   "execution_count": 27,
   "id": "bd3e7f80-e7da-4142-a1c9-1dfe3b63adac",
   "metadata": {},
   "outputs": [
    {
     "name": "stdout",
     "output_type": "stream",
     "text": [
      "El total de datos atípicos es 1\n"
     ]
    }
   ],
   "source": [
    "#Conteo de Datos Atípicos\n",
    "nivel_minimo=0\n",
    "nivel_maximo=1.4\n",
    "Total_Atipicos=((Datos['volatile acidity']<nivel_minimo)|(Datos['volatile acidity']>nivel_maximo)).sum()\n",
    "print(\"El total de datos atípicos es {}\".format(Total_Atipicos))"
   ]
  },
  {
   "cell_type": "code",
   "execution_count": 33,
   "id": "4363d0ec-013e-4c4c-9ee9-d5586652872d",
   "metadata": {},
   "outputs": [],
   "source": [
    "# Filtra Datos Atípicos\n",
    "\n",
    "Datos=Datos[(Datos['volatile acidity']<nivel_maximo)&(Datos['volatile acidity']>nivel_minimo)]"
   ]
  },
  {
   "cell_type": "code",
   "execution_count": 34,
   "id": "1caffc5c-6ff7-4c49-9b83-2ef82de4128a",
   "metadata": {},
   "outputs": [
    {
     "name": "stdout",
     "output_type": "stream",
     "text": [
      "El total de datos atípicos es 0\n"
     ]
    }
   ],
   "source": [
    "# Validar si se removieron los datos atípicos\n",
    "\n",
    "Total_Atipicos=((Datos['volatile acidity']<nivel_minimo)|(Datos['volatile acidity']>nivel_maximo)).sum()\n",
    "print(\"El total de datos atípicos es {}\".format(Total_Atipicos))"
   ]
  },
  {
   "cell_type": "code",
   "execution_count": 28,
   "id": "e71b002e-b69d-435f-9286-40ba2b7ef4e3",
   "metadata": {},
   "outputs": [
    {
     "name": "stdout",
     "output_type": "stream",
     "text": [
      "El total de datos atípicos es 8\n"
     ]
    }
   ],
   "source": [
    "#Conteo de Datos Atípicos\n",
    "nivel_minimo=0\n",
    "nivel_maximo=12\n",
    "Total_Atipicos=((Datos['residual sugar']<nivel_minimo)|(Datos['residual sugar']>nivel_maximo)).sum()\n",
    "print(\"El total de datos atípicos es {}\".format(Total_Atipicos))"
   ]
  },
  {
   "cell_type": "code",
   "execution_count": 35,
   "id": "71413127-b135-43af-856c-b6487dc39092",
   "metadata": {},
   "outputs": [],
   "source": [
    "# Filtra Datos Atípicos\n",
    "\n",
    "Datos=Datos[(Datos['residual sugar']<nivel_maximo)&(Datos['residual sugar']>nivel_minimo)]"
   ]
  },
  {
   "cell_type": "code",
   "execution_count": 36,
   "id": "12be0cc7-379a-419c-976d-a44374cc22fb",
   "metadata": {},
   "outputs": [
    {
     "name": "stdout",
     "output_type": "stream",
     "text": [
      "El total de datos atípicos es 0\n"
     ]
    }
   ],
   "source": [
    "# Validar si se removieron los datos atípicos\n",
    "\n",
    "Total_Atipicos=((Datos['residual sugar']<nivel_minimo)|(Datos['residual sugar']>nivel_maximo)).sum()\n",
    "print(\"El total de datos atípicos es {}\".format(Total_Atipicos))"
   ]
  },
  {
   "cell_type": "code",
   "execution_count": 29,
   "id": "d4df6fd3-6164-4aa7-9cad-cb4c98524e8a",
   "metadata": {},
   "outputs": [
    {
     "name": "stdout",
     "output_type": "stream",
     "text": [
      "El total de datos atípicos es 4\n"
     ]
    }
   ],
   "source": [
    "#Conteo de Datos Atípicos\n",
    "nivel_minimo=0\n",
    "nivel_maximo=60\n",
    "Total_Atipicos=((Datos['free sulfur dioxide']<nivel_minimo)|(Datos['free sulfur dioxide']>nivel_maximo)).sum()\n",
    "print(\"El total de datos atípicos es {}\".format(Total_Atipicos))"
   ]
  },
  {
   "cell_type": "code",
   "execution_count": 37,
   "id": "15a0028b-daff-4435-a06b-0fb5f1200e96",
   "metadata": {},
   "outputs": [],
   "source": [
    "# Filtra Datos Atípicos\n",
    "\n",
    "Datos=Datos[(Datos['free sulfur dioxide']<nivel_maximo)&(Datos['free sulfur dioxide']>nivel_minimo)]"
   ]
  },
  {
   "cell_type": "code",
   "execution_count": 38,
   "id": "62e6b6fc-b0f1-43c1-88c9-c1624c91a3e6",
   "metadata": {},
   "outputs": [
    {
     "name": "stdout",
     "output_type": "stream",
     "text": [
      "El total de datos atípicos es 0\n"
     ]
    }
   ],
   "source": [
    "# Validar si se removieron los datos atípicos\n",
    "\n",
    "Total_Atipicos=((Datos['free sulfur dioxide']<nivel_minimo)|(Datos['free sulfur dioxide']>nivel_maximo)).sum()\n",
    "print(\"El total de datos atípicos es {}\".format(Total_Atipicos))"
   ]
  },
  {
   "cell_type": "code",
   "execution_count": 44,
   "id": "4179915d-ef2b-468a-bd5e-60d27c10c52d",
   "metadata": {},
   "outputs": [
    {
     "name": "stdout",
     "output_type": "stream",
     "text": [
      "El total de datos atípicos es 0\n"
     ]
    }
   ],
   "source": [
    "#Conteo de Datos Atípicos\n",
    "nivel_minimo=0\n",
    "nivel_maximo=200\n",
    "Total_Atipicos=((Datos['total sulfur dioxide']<nivel_minimo)|(Datos['total sulfur dioxide']>nivel_maximo)).sum()\n",
    "print(\"El total de datos atípicos es {}\".format(Total_Atipicos))"
   ]
  },
  {
   "cell_type": "code",
   "execution_count": 40,
   "id": "e778f8f5-7631-4dad-86d6-24bd46eabccc",
   "metadata": {},
   "outputs": [],
   "source": [
    "# Filtra Datos Atípicos\n",
    "\n",
    "Datos=Datos[(Datos['total sulfur dioxide']<nivel_maximo)&(Datos['total sulfur dioxide']>nivel_minimo)]"
   ]
  },
  {
   "cell_type": "code",
   "execution_count": 41,
   "id": "5bb66a09-cb49-47f4-8d94-3155a6b82671",
   "metadata": {},
   "outputs": [
    {
     "name": "stdout",
     "output_type": "stream",
     "text": [
      "El total de datos atípicos es 0\n"
     ]
    }
   ],
   "source": [
    "# Validar si se removieron los datos atípicos\n",
    "\n",
    "Total_Atipicos=((Datos['total sulfur dioxide']<nivel_minimo)|(Datos['total sulfur dioxide']>nivel_maximo)).sum()\n",
    "print(\"El total de datos atípicos es {}\".format(Total_Atipicos))"
   ]
  },
  {
   "cell_type": "code",
   "execution_count": 42,
   "id": "a7cd2fbf-391b-45a2-936d-3869173d167e",
   "metadata": {},
   "outputs": [
    {
     "name": "stdout",
     "output_type": "stream",
     "text": [
      "<class 'pandas.core.frame.DataFrame'>\n",
      "Index: 1597 entries, 0 to 1598\n",
      "Data columns (total 12 columns):\n",
      " #   Column                Non-Null Count  Dtype  \n",
      "---  ------                --------------  -----  \n",
      " 0   fixed acidity         1597 non-null   float64\n",
      " 1   volatile acidity      1597 non-null   float64\n",
      " 2   citric acid           1597 non-null   float64\n",
      " 3   residual sugar        1597 non-null   float64\n",
      " 4   chlorides             1597 non-null   float64\n",
      " 5   free sulfur dioxide   1597 non-null   float64\n",
      " 6   total sulfur dioxide  1597 non-null   float64\n",
      " 7   density               1597 non-null   float64\n",
      " 8   pH                    1597 non-null   float64\n",
      " 9   sulphates             1597 non-null   float64\n",
      " 10  alcohol               1597 non-null   float64\n",
      " 11  quality               1597 non-null   int64  \n",
      "dtypes: float64(11), int64(1)\n",
      "memory usage: 162.2 KB\n"
     ]
    }
   ],
   "source": [
    "#Revisión del tipo de datos y datos faltantes\n",
    "\n",
    "Datos.info()"
   ]
  },
  {
   "cell_type": "raw",
   "id": "ba0531c5-26ea-40e8-bdfe-bdf11549b0e2",
   "metadata": {},
   "source": [
    "2.Preprocesar los datos limpiándolos, tratando valores faltantes y transformándolos según sea necesario.\n",
    "Con el analisis realizado se opto que no hacia falta ningun dato ya que los datos donde se hayaban en 0 puede ser normal en con el tratamiento del vino"
   ]
  },
  {
   "cell_type": "raw",
   "id": "867ddd2f-9e82-476d-a222-d020da2c09d2",
   "metadata": {},
   "source": [
    "3.Seleccionar las características más relevantes para entrenar el modelo utilizando selección de características"
   ]
  },
  {
   "cell_type": "code",
   "execution_count": 50,
   "id": "4f029f45-f744-464b-bb9e-e7030844cff0",
   "metadata": {},
   "outputs": [
    {
     "data": {
      "text/plain": [
       "quality\n",
       "5    681\n",
       "6    638\n",
       "7    197\n",
       "4     53\n",
       "8     18\n",
       "3     10\n",
       "Name: count, dtype: int64"
      ]
     },
     "execution_count": 50,
     "metadata": {},
     "output_type": "execute_result"
    }
   ],
   "source": [
    "# Total de calidades\n",
    "\n",
    "Datos['quality'].value_counts()"
   ]
  },
  {
   "cell_type": "code",
   "execution_count": 57,
   "id": "c8077824-f732-4978-beab-a0b72640cbcf",
   "metadata": {},
   "outputs": [
    {
     "data": {
      "text/plain": [
       "alcohol\n",
       "9.500000     139\n",
       "9.400000     103\n",
       "9.800000      78\n",
       "9.200000      72\n",
       "10.000000     67\n",
       "            ... \n",
       "9.950000       1\n",
       "9.233333       1\n",
       "9.250000       1\n",
       "9.050000       1\n",
       "10.750000      1\n",
       "Name: count, Length: 65, dtype: int64"
      ]
     },
     "execution_count": 57,
     "metadata": {},
     "output_type": "execute_result"
    }
   ],
   "source": [
    "# Total de alcohol\n",
    "\n",
    "Datos['alcohol'].value_counts()"
   ]
  },
  {
   "cell_type": "raw",
   "id": "f0453564-93b4-450b-87a4-da019ae4423e",
   "metadata": {},
   "source": [
    "4. Dividir el dataset en Train y Test para evaluar correctamente el modelo."
   ]
  },
  {
   "cell_type": "code",
   "execution_count": 71,
   "id": "b89cf5ce-a000-48a8-8872-870f6d9cf33a",
   "metadata": {},
   "outputs": [],
   "source": [
    "# Porcentaje de datos para entrenamiento (train) = 75% , y para prueba (test) = 25%\n",
    "\n",
    "# Se crean variables X y Y para almacenar la información del entrenamiento\n",
    "\n",
    "X = Datos.drop('quality',axis=1) # Se cargan los datos de train sin los datos de la columna quality\n",
    "Y = Datos['quality'] # Se cargan los datos de train con los datos de la la columna Diabetico\n",
    "\n",
    "#La función train_test_split crea una división de un conjunto de datos en dos bloques uno de entrenamiento y otro de prueba (train and test)\n",
    "X_train, X_test, Y_train, Y_test = train_test_split(X, Y, test_size=0.25, stratify=Y, random_state= 0)"
   ]
  },
  {
   "cell_type": "code",
   "execution_count": 72,
   "id": "a891ea7a-b114-40f9-98e1-c7f0969315a5",
   "metadata": {},
   "outputs": [
    {
     "name": "stdout",
     "output_type": "stream",
     "text": [
      "      fixed acidity  volatile acidity  citric acid  residual sugar  chlorides  \\\n",
      "607             8.8             0.480         0.41             3.3      0.092   \n",
      "987             7.1             0.360         0.30             1.6      0.080   \n",
      "728             6.4             0.570         0.02             1.8      0.067   \n",
      "776             6.9             0.765         0.18             2.4      0.243   \n",
      "1147           10.0             0.410         0.45             6.2      0.071   \n",
      "...             ...               ...          ...             ...        ...   \n",
      "233             6.9             0.520         0.25             2.6      0.081   \n",
      "412             7.1             0.735         0.16             1.9      0.100   \n",
      "772             9.5             0.570         0.27             2.3      0.082   \n",
      "829             5.9             0.610         0.08             2.1      0.071   \n",
      "1526            6.8             0.470         0.08             2.2      0.064   \n",
      "\n",
      "      free sulfur dioxide  total sulfur dioxide  density    pH  sulphates  \\\n",
      "607                  26.0                  52.0  0.99820  3.31       0.53   \n",
      "987                  35.0                  70.0  0.99693  3.44       0.50   \n",
      "728                   4.0                  11.0  0.99700  3.46       0.68   \n",
      "776                   5.5                  48.0  0.99612  3.40       0.60   \n",
      "1147                  6.0                  14.0  0.99702  3.21       0.49   \n",
      "...                   ...                   ...      ...   ...        ...   \n",
      "233                  10.0                  37.0  0.99685  3.46       0.50   \n",
      "412                  15.0                  77.0  0.99660  3.27       0.64   \n",
      "772                  23.0                 144.0  0.99782  3.27       0.55   \n",
      "829                  16.0                  24.0  0.99376  3.56       0.77   \n",
      "1526                 18.0                  38.0  0.99553  3.30       0.65   \n",
      "\n",
      "      alcohol  \n",
      "607      10.5  \n",
      "987       9.4  \n",
      "728       9.5  \n",
      "776      10.3  \n",
      "1147     11.8  \n",
      "...       ...  \n",
      "233      11.0  \n",
      "412       9.3  \n",
      "772       9.4  \n",
      "829      11.1  \n",
      "1526      9.6  \n",
      "\n",
      "[1197 rows x 11 columns]\n"
     ]
    }
   ],
   "source": [
    "print (X_train)"
   ]
  },
  {
   "cell_type": "code",
   "execution_count": 73,
   "id": "27dc79ce-39cb-46fa-99f9-31f0de2d79b9",
   "metadata": {},
   "outputs": [
    {
     "name": "stdout",
     "output_type": "stream",
     "text": [
      "607     6\n",
      "987     5\n",
      "728     5\n",
      "776     6\n",
      "1147    7\n",
      "       ..\n",
      "233     5\n",
      "412     5\n",
      "772     5\n",
      "829     6\n",
      "1526    6\n",
      "Name: quality, Length: 1197, dtype: int64\n"
     ]
    }
   ],
   "source": [
    "print (Y_train)"
   ]
  },
  {
   "cell_type": "raw",
   "id": "c7c4fd8b-2870-46f8-bdff-abec4660c987",
   "metadata": {},
   "source": [
    "5. Entrenar el modelo configurando los diferentes hiperparámetros."
   ]
  },
  {
   "cell_type": "code",
   "execution_count": 75,
   "id": "92b5acb6-bee6-4a50-977d-e041de968db6",
   "metadata": {},
   "outputs": [],
   "source": [
    "# Crear el modelo de árbol de decisión con diferentes hiperparámetros\n",
    "modelo_arbol = DecisionTreeClassifier(max_depth=5, min_samples_split=2, random_state=42)  # Puedes ajustar estos hiperparámetros según tus necesidades\n",
    "\n",
    "# Entrenar el modelo\n",
    "modelo_arbol.fit(X_train, Y_train)\n",
    "\n",
    "# Realizar predicciones en el conjunto de prueba\n",
    "predicciones = modelo_arbol.predict(X_test)"
   ]
  },
  {
   "cell_type": "code",
   "execution_count": 76,
   "id": "c0a6e245-b353-485e-a03e-7452536b3b8a",
   "metadata": {},
   "outputs": [
    {
     "name": "stdout",
     "output_type": "stream",
     "text": [
      "1463    6\n",
      "560     5\n",
      "840     7\n",
      "361     6\n",
      "59      6\n",
      "       ..\n",
      "289     5\n",
      "1035    7\n",
      "1002    7\n",
      "715     6\n",
      "1184    5\n",
      "Name: quality, Length: 400, dtype: int64\n"
     ]
    }
   ],
   "source": [
    "print (Y_test)"
   ]
  },
  {
   "cell_type": "code",
   "execution_count": 79,
   "id": "7eb27d58-b498-4ecd-a59f-d48c673b266b",
   "metadata": {},
   "outputs": [
    {
     "name": "stdout",
     "output_type": "stream",
     "text": [
      "[5 6 6 5 5 6 5 7 6 5 5 5 6 5 6 6 6 6 5 5 6 5 5 5 5 5 5 6 5 7 5 7 7 5 5 6 6\n",
      " 5 7 5 5 5 5 5 5 5 6 6 5 6 6 5 5 6 5 6 5 6 5 5 5 6 5 5 5 7 6 5 5 6 5 7 6 5\n",
      " 6 5 6 5 5 6 5 5 6 6 7 6 6 6 5 5 6 6 6 6 6 5 5 5 6 5 6 5 6 6 5 6 5 5 6 6 5\n",
      " 5 6 5 5 5 5 5 7 6 6 5 6 7 5 6 6 6 5 7 5 5 5 6 7 5 5 6 5 5 6 5 6 7 6 6 7 6\n",
      " 6 7 6 6 6 7 5 7 6 5 5 5 6 5 6 5 6 5 5 6 7 7 5 5 5 6 6 5 6 6 5 6 6 5 5 6 5\n",
      " 5 5 6 5 5 6 6 5 5 5 6 5 6 5 6 5 5 6 5 5 6 5 6 7 6 5 5 5 5 6 5 5 6 5 5 7 5\n",
      " 5 6 5 7 6 5 5 6 6 6 5 5 6 5 5 5 5 5 6 5 5 5 5 6 6 6 5 5 6 5 6 6 6 6 5 6 5\n",
      " 6 7 5 6 6 7 6 6 6 5 6 7 6 5 6 5 6 5 6 7 6 5 5 5 5 5 7 5 5 6 5 6 7 5 5 6 6\n",
      " 5 5 6 5 6 5 6 6 6 5 5 5 6 5 6 5 6 5 6 5 6 6 5 6 5 5 5 7 6 6 5 7 5 5 6 6 5\n",
      " 6 5 5 6 6 6 5 6 5 6 7 6 6 7 5 5 6 5 6 5 7 6 6 5 5 6 5 6 5 5 6 5 6 5 6 6 6\n",
      " 6 5 5 6 5 5 5 7 5 7 6 7 5 6 6 7 5 6 5 6 6 6 5 6 6 5 6 7 5 6]\n"
     ]
    }
   ],
   "source": [
    "print (predicciones)"
   ]
  },
  {
   "cell_type": "code",
   "execution_count": null,
   "id": "47bd2229-2906-4012-914e-355d857efc2d",
   "metadata": {},
   "outputs": [],
   "source": []
  }
 ],
 "metadata": {
  "kernelspec": {
   "display_name": "Python 3 (ipykernel)",
   "language": "python",
   "name": "python3"
  },
  "language_info": {
   "codemirror_mode": {
    "name": "ipython",
    "version": 3
   },
   "file_extension": ".py",
   "mimetype": "text/x-python",
   "name": "python",
   "nbconvert_exporter": "python",
   "pygments_lexer": "ipython3",
   "version": "3.11.7"
  }
 },
 "nbformat": 4,
 "nbformat_minor": 5
}
